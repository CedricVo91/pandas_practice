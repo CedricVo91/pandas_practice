{
 "cells": [
  {
   "cell_type": "code",
   "execution_count": 1,
   "id": "e82820aa-343f-496d-82d4-0f984932cb64",
   "metadata": {},
   "outputs": [
    {
     "name": "stdout",
     "output_type": "stream",
     "text": [
      "hello conda environment and pandas\n",
      "I will print my first array [1 2 3 4]\n"
     ]
    }
   ],
   "source": [
    "import pandas as pd\n",
    "import numpy as np\n",
    "print(\"hello conda environment and pandas\")\n",
    "\n",
    "array1 = np.array([1,2,3,4])\n",
    "print(f\"I will print my first array {array1}\")"
   ]
  },
  {
   "cell_type": "code",
   "execution_count": null,
   "id": "c94aba0a-3ace-405f-9043-660d3009987c",
   "metadata": {},
   "outputs": [],
   "source": []
  }
 ],
 "metadata": {
  "kernelspec": {
   "display_name": "Python 3 (ipykernel)",
   "language": "python",
   "name": "python3"
  },
  "language_info": {
   "codemirror_mode": {
    "name": "ipython",
    "version": 3
   },
   "file_extension": ".py",
   "mimetype": "text/x-python",
   "name": "python",
   "nbconvert_exporter": "python",
   "pygments_lexer": "ipython3",
   "version": "3.10.8 | packaged by conda-forge | (main, Nov 24 2022, 14:07:00) [MSC v.1916 64 bit (AMD64)]"
  },
  "vscode": {
   "interpreter": {
    "hash": "a395946085cfb3859e03d08939b0aef23cf3fc1615cb065a37aed8df5b3dc529"
   }
  }
 },
 "nbformat": 4,
 "nbformat_minor": 5
}
